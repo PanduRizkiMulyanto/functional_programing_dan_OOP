{
  "nbformat": 4,
  "nbformat_minor": 0,
  "metadata": {
    "colab": {
      "provenance": [],
      "authorship_tag": "ABX9TyMcB6xAB08joq4snSRGCwbC",
      "include_colab_link": true
    },
    "kernelspec": {
      "name": "python3",
      "display_name": "Python 3"
    },
    "language_info": {
      "name": "python"
    }
  },
  "cells": [
    {
      "cell_type": "markdown",
      "metadata": {
        "id": "view-in-github",
        "colab_type": "text"
      },
      "source": [
        "<a href=\"https://colab.research.google.com/github/PanduRizkiMulyanto/functional_programing_dan_OOP/blob/main/functionaldanOOP.ipynb\" target=\"_parent\"><img src=\"https://colab.research.google.com/assets/colab-badge.svg\" alt=\"Open In Colab\"/></a>"
      ]
    },
    {
      "cell_type": "code",
      "execution_count": null,
      "metadata": {
        "colab": {
          "base_uri": "https://localhost:8080/"
        },
        "id": "NzWfqykRNPY7",
        "outputId": "0a42e49a-8ca0-465e-e79c-fb209d78ea50"
      },
      "outputs": [
        {
          "output_type": "stream",
          "name": "stdout",
          "text": [
            "25.0\n",
            "Masukkan alas: 4\n",
            "Masukkan tinggi: 2\n",
            "4.0\n"
          ]
        }
      ],
      "source": [
        "#FUNCTIONAL PROGRAMMING\n",
        "\n",
        "def input_alas_dan_tinggi ():\n",
        "  alas = float(input('Masukkan alas: '))\n",
        "  tinggi = float((input('Masukkan tinggi: ')))\n",
        "\n",
        "  return alas, tinggi\n",
        "\n",
        "def hitung_luas (alas, tinggi):\n",
        "  return 0.5 * alas * tinggi\n",
        "\n",
        "\"\"\"kalau fungsional, kita sendiri yang mengelola\n",
        "hasil kembaliannya\"\"\"\n",
        "\n",
        "# satu fungsi bisa dipanggil secara independen\n",
        "print(hitung_luas(5, 10))\n",
        "\n",
        "# contoh dengan inputan alas dan tinggi\n",
        "alas, tinggi = input_alas_dan_tinggi()\n",
        "print(hitung_luas(alas, tinggi))\n"
      ]
    },
    {
      "cell_type": "code",
      "source": [
        "#OOP\n",
        "class Segitiga:\n",
        "  def __init__(self, alas, tinggi):\n",
        "    self.alas = alas\n",
        "    self.tinggi = tinggi\n",
        "\n",
        "  def get_luas(self):\n",
        "    return 0.5 * self.alas * self.tinggi\n",
        "\n",
        "segitiga1 = Segitiga(5, 10)\n",
        "segitiga2 = Segitiga(10, 10)\n",
        "\n",
        "print('luas segitiga1:', segitiga1.get_luas())\n",
        "print('luas segitiga2:', segitiga2.get_luas())    "
      ],
      "metadata": {
        "colab": {
          "base_uri": "https://localhost:8080/"
        },
        "id": "46Zn4FCXN3E5",
        "outputId": "be3bb600-341b-49df-d01e-3b0d823ec47c"
      },
      "execution_count": null,
      "outputs": [
        {
          "output_type": "stream",
          "name": "stdout",
          "text": [
            "luas segitiga1: 25.0\n",
            "luas segitiga2: 50.0\n"
          ]
        }
      ]
    },
    {
      "cell_type": "code",
      "source": [
        "#OOP\n",
        "class Kucing:\n",
        "\n",
        "    def __init__(self, name, age):  \n",
        "        self.name = name\n",
        "        self.age = age\n",
        "\n",
        "    def suara(self):\n",
        "        print(\"ngeong !\")\n",
        "\n",
        "    def kucinginfo(self):\n",
        "        print(self.name + \" berumur \" + str(self.age) + \" tahun\")\n",
        "\n",
        "    def birthday(self):\n",
        "        self.age +=1\n",
        "\n",
        "\n",
        "\n",
        "lala = Kucing(\"Lala\", 2)\n",
        "joni = Kucing(\"Joni\", 8)\n",
        "\n",
        "lala.kucinginfo()\n",
        "joni.kucinginfo()\n",
        "lala.suara()\n",
        "joni.birthday()\n",
        "print(\"umur joni sekangan\",joni.age,\"tahun\")"
      ],
      "metadata": {
        "id": "ksVSAoOMPtFb",
        "outputId": "f414f27c-15c8-4f84-ef96-59c63cff8a80",
        "colab": {
          "base_uri": "https://localhost:8080/"
        }
      },
      "execution_count": 12,
      "outputs": [
        {
          "output_type": "stream",
          "name": "stdout",
          "text": [
            "Lala berumur 2 tahun\n",
            "Joni berumur 8 tahun\n",
            "ngeong !\n",
            "umur joni sekangan 9 tahun\n"
          ]
        }
      ]
    }
  ]
}